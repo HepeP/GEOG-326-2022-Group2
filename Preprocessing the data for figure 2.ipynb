{
 "cells": [
  {
   "cell_type": "code",
   "execution_count": 25,
   "id": "dfd2470e-efb8-47c7-958c-efa6da602a12",
   "metadata": {},
   "outputs": [
    {
     "name": "stderr",
     "output_type": "stream",
     "text": [
      "/tmp/ipykernel_128/4024209654.py:52: FutureWarning: The frame.append method is deprecated and will be removed from pandas in a future version. Use pandas.concat instead.\n",
      "  winter_centre_data_grouped = winter_centre_data_grouped.append(df_winter, ignore_index = True)\n",
      "/tmp/ipykernel_128/4024209654.py:53: FutureWarning: The frame.append method is deprecated and will be removed from pandas in a future version. Use pandas.concat instead.\n",
      "  summer_centre_data_grouped = summer_centre_data_grouped.append(df_summer, ignore_index = True)\n"
     ]
    }
   ],
   "source": [
    "# Import needed module\n",
    "import pandas as pd\n",
    "\n",
    "# Create a filepath\n",
    "fp_summer_data = \"C:\\...\\summer_data.csv\"\n",
    "fp_winter_data = \"C:\\...\\winter_data.csv\"\n",
    "\n",
    "# Read the data\n",
    "summer_data = pd.read_csv(fp_summer_data, sep=\",\")\n",
    "winter_data = pd.read_csv(fp_winter_data, sep=\",\")\n",
    "\n",
    "# Create a list of Telia grid ID-numbers which intersect with the layers of central Helsinki districts Kamppi and Kluuvi\n",
    "centre_list = [9014, 9016, 9038, 9054, 9055, 9056, 9057, 9058, 9060, 9072, 9073, 9076]\n",
    "\n",
    "# Reduce the dataframes to contain only the grids of central Helsinki\n",
    "summer_centre_data = summer_data.loc[summer_data['grid_id'].isin(centre_list)]\n",
    "winter_centre_data = winter_data.loc[winter_data['grid_id'].isin(centre_list)]\n",
    "\n",
    "# Group the data by home region and calculate sum of presence count\n",
    "summer_centre_data_grouped = summer_centre_data.groupby(\"home_cnty_name\", as_index=False)[\"presence_cnt\"].sum()\n",
    "winter_centre_data_grouped = winter_centre_data.groupby(\"home_cnty_name\", as_index=False)[\"presence_cnt\"].sum()\n",
    "\n",
    "# Drop rows which \"home_cnty_name\" column has value \"Uusimaa\"\n",
    "for idx, row in winter_centre_data_grouped.iterrows():\n",
    "    if row[\"home_cnty_name\"] == \"Uusimaa\":\n",
    "        winter_centre_data_grouped.drop(idx, inplace=True)\n",
    "for idx, row in summer_centre_data_grouped.iterrows():\n",
    "    if row[\"home_cnty_name\"] == \"Uusimaa\":\n",
    "        summer_centre_data_grouped.drop(idx, inplace=True)\n",
    "\n",
    "# Sort dataframes by \"presence_cnt\" column\n",
    "winter_centre_data_grouped = winter_centre_data_grouped.sort_values(by=['presence_cnt'], ascending=False, ignore_index=True)\n",
    "summer_centre_data_grouped = summer_centre_data_grouped.sort_values(by=['presence_cnt'], ascending=False, ignore_index=True)\n",
    "\n",
    "# Leave only rows of top 4 biggest \"presence_cnt\" column values and combine other \"presence_cnt\" values\n",
    "others_winter = 0\n",
    "for idx, row in winter_centre_data_grouped.iloc[4:].iterrows():\n",
    "    others_winter += row[\"presence_cnt\"]\n",
    "    winter_centre_data_grouped.drop(idx, inplace=True)\n",
    "others_summer = 0\n",
    "for idx, row in summer_centre_data_grouped.iloc[4:].iterrows():\n",
    "    others_summer += row[\"presence_cnt\"]\n",
    "    summer_centre_data_grouped.drop(idx, inplace=True)\n",
    "\n",
    "# Create dataframes of combined \"Others\" values    \n",
    "df_winter = pd.DataFrame({\"home_cnty_name\": \"Others\", \"presence_cnt\": others_winter}, index=[0])\n",
    "df_summer = pd.DataFrame({\"home_cnty_name\": \"Others\", \"presence_cnt\": others_summer}, index=[0])\n",
    "\n",
    "# Add \"Others\" dataframes to original dataframes \n",
    "winter_centre_data_grouped = winter_centre_data_grouped.append(df_winter, ignore_index = True)\n",
    "summer_centre_data_grouped = summer_centre_data_grouped.append(df_summer, ignore_index = True)\n",
    "\n",
    "# Calculate sum of \"presence_cnt\" columns\n",
    "total_summer = summer_centre_data_grouped[\"presence_cnt\"].sum()\n",
    "total_winter = winter_centre_data_grouped[\"presence_cnt\"].sum()\n",
    "\n",
    "# Calculate proportional values of presence count in every grid and assign the values to \"percent\" column\n",
    "summer_centre_data_grouped[\"percent\"] = round(((summer_centre_data_grouped[\"presence_cnt\"] / total_summer) * 100), 2)\n",
    "winter_centre_data_grouped[\"percent\"] = round(((winter_centre_data_grouped[\"presence_cnt\"] / total_winter) * 100), 2)\n",
    "\n",
    "# Drop the \"presence_cnt\" column and rename remaining columns\n",
    "summer_centre_data_grouped = summer_centre_data_grouped.drop(['presence_cnt'], axis=1) \n",
    "winter_centre_data_grouped = winter_centre_data_grouped.drop(['presence_cnt'], axis=1)\n",
    "summer_centre_data_grouped = summer_centre_data_grouped.rename(columns={\"home_cnty_name\": \"Home region\", 'percent': \"Summer (%)\"})\n",
    "winter_centre_data_grouped = winter_centre_data_grouped.rename(columns={\"home_cnty_name\": \"Home region\", 'percent': \"Winter (%)\"})\n",
    "                                                                        \n",
    "# Join summer and winter data\n",
    "join = pd.merge(winter_centre_data_grouped, summer_centre_data_grouped, on=[\"Home region\"])                                                                  \n",
    "\n",
    "# Save the data for figure 2 to csv-files\n",
    "join.to_csv('centre_regions.csv', index=False)"
   ]
  },
  {
   "cell_type": "code",
   "execution_count": null,
   "id": "ba780b52-8a9a-40fc-8b4a-41ae2dc41628",
   "metadata": {},
   "outputs": [],
   "source": []
  }
 ],
 "metadata": {
  "kernelspec": {
   "display_name": "Python 3 (ipykernel)",
   "language": "python",
   "name": "python3"
  },
  "language_info": {
   "codemirror_mode": {
    "name": "ipython",
    "version": 3
   },
   "file_extension": ".py",
   "mimetype": "text/x-python",
   "name": "python",
   "nbconvert_exporter": "python",
   "pygments_lexer": "ipython3",
   "version": "3.10.6"
  }
 },
 "nbformat": 4,
 "nbformat_minor": 5
}
