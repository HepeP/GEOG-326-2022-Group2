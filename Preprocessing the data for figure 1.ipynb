{
 "cells": [
  {
   "cell_type": "code",
   "execution_count": 1,
   "id": "47f2e6a6-c93c-440d-a5ee-dbccbabe30cd",
   "metadata": {},
   "outputs": [],
   "source": [
    "# Import needed library\n",
    "import pandas as pd\n",
    "\n",
    "# Create a filepath\n",
    "fp_data = \"C:\\...\\MP_Helsinki_presence_clip.csv\"\n",
    "\n",
    "# Read the data\n",
    "data = pd.read_csv(fp_data, sep=\";\")\n",
    "\n",
    "# Assign only days from monday to thursday to dataframe\n",
    "data = data.loc[data['weekday'] == \"Monday-Thursday\"]\n",
    "\n",
    "# Create a list of Telia grid ID-numbers which intersect with the layers of central Helsinki districts Kamppi and Kluuvi\n",
    "centre_list = [9014, 9016, 9038, 9054, 9055, 9056, 9057, 9058, 9060, 9072, 9073, 9076]\n",
    "\n",
    "# Reduce the dataframe to contain only the grids of central Helsinki\n",
    "centre_data = data.loc[data['grid_id'].isin(centre_list)]\n",
    "\n",
    "# Group the data by months and calculate sum of presence count\n",
    "monthly_centre_data = centre_data.groupby(\"month\", as_index=False)[\"presence_cnt\"].sum()\n",
    "\n",
    "# Save the data for graph 1 to a csv-file\n",
    "monthly_centre_data.to_csv('month.csv', index=False)"
   ]
  }
 ],
 "metadata": {
  "kernelspec": {
   "display_name": "Python 3 (ipykernel)",
   "language": "python",
   "name": "python3"
  },
  "language_info": {
   "codemirror_mode": {
    "name": "ipython",
    "version": 3
   },
   "file_extension": ".py",
   "mimetype": "text/x-python",
   "name": "python",
   "nbconvert_exporter": "python",
   "pygments_lexer": "ipython3",
   "version": "3.10.6"
  }
 },
 "nbformat": 4,
 "nbformat_minor": 5
}
